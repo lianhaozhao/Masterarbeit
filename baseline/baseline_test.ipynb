{
 "cells": [
  {
   "cell_type": "code",
   "id": "initial_id",
   "metadata": {
    "collapsed": true,
    "ExecuteTime": {
     "end_time": "2025-08-09T01:03:31.153106Z",
     "start_time": "2025-08-09T01:03:28.950841Z"
    }
   },
   "source": [
    "import os\n",
    "import torch\n",
    "import torch.nn as nn\n",
    "import numpy as np\n",
    "from models.Flexible_CNN import Flexible_CNN\n",
    "from PKLDataset import PKLDataset\n",
    "from torch.utils.data import DataLoader\n",
    "import yaml\n",
    "import random\n",
    "from tqdm import tqdm\n",
    "from n_PKLDataset import N_PKLDataset,fit_normalizer_from_txt"
   ],
   "outputs": [],
   "execution_count": 1
  },
  {
   "metadata": {
    "ExecuteTime": {
     "end_time": "2025-08-08T22:07:56.456583Z",
     "start_time": "2025-08-08T22:07:20.946448Z"
    }
   },
   "cell_type": "code",
   "source": [
    "# 设置随机种子\n",
    "seed = 44\n",
    "torch.manual_seed(seed)\n",
    "np.random.seed(seed)\n",
    "random.seed(seed)\n",
    "if torch.cuda.is_available():\n",
    "    torch.cuda.manual_seed_all(seed)\n",
    "\n",
    "# 加载配置\n",
    "with open(\"../configs/default.yaml\", 'r') as f:\n",
    "    config = yaml.safe_load(f)['baseline']\n",
    "\n",
    "batch_size = config['batch_size']\n",
    "num_layers = config['num_layers']\n",
    "kernel_size = config['kernel_size']\n",
    "start_channels = config['start_channels']\n",
    "\n",
    "# 设置设备\n",
    "device = torch.device(\"cuda\" if torch.cuda.is_available() else \"cpu\")\n",
    "file = ['../datasets/HC_T197_RP.txt','../datasets/HC_T194_RP.txt','../datasets/HC_T191_RP.txt','../datasets/HC_T188_RP.txt','../datasets/HC_T185_RP.txt']\n",
    "for item in file:\n",
    "    # 加载测试数据\n",
    "    test_dataset = PKLDataset(item)\n",
    "    test_loader = DataLoader(test_dataset, batch_size=batch_size, shuffle=False)\n",
    "\n",
    "    # 初始化模型\n",
    "    model = Flexible_CNN(\n",
    "        num_layers=num_layers,\n",
    "        start_channels=start_channels,\n",
    "        kernel_size=kernel_size,\n",
    "        cnn_act='leakrelu',\n",
    "        num_classes=10\n",
    "    ).to(device)\n",
    "\n",
    "    # 加载模型权重\n",
    "    model_path = 'model/best_model.pth'\n",
    "    model.load_state_dict(torch.load(model_path, map_location=device))\n",
    "    model.eval()\n",
    "\n",
    "    # 定义损失函数\n",
    "    criterion = nn.CrossEntropyLoss()\n",
    "\n",
    "    # 评估模型\n",
    "    test_loss = 0.0\n",
    "    correct = 0\n",
    "    total = 0\n",
    "\n",
    "    with torch.no_grad():\n",
    "        for inputs, labels in tqdm(test_loader, desc=\"Testing\"):\n",
    "            inputs, labels = inputs.to(device), labels.to(device)\n",
    "            outputs = model(inputs)\n",
    "            outputs = outputs[0] if isinstance(outputs, tuple) else outputs\n",
    "            loss = criterion(outputs, labels)\n",
    "\n",
    "            test_loss += loss.item() * inputs.size(0)\n",
    "\n",
    "            _, preds = torch.max(outputs, 1)\n",
    "            correct += (preds == labels).sum().item()\n",
    "            total += labels.size(0)\n",
    "\n",
    "    test_loss /= total\n",
    "    test_accuracy = correct / total\n",
    "\n",
    "    print(f\"\\nfile:{item} \\nTest Loss: {test_loss:.6f} Test Accuracy: {test_accuracy:.4f}\")"
   ],
   "id": "22114b13f6e456c6",
   "outputs": [
    {
     "name": "stderr",
     "output_type": "stream",
     "text": [
      "C:\\Users\\15185\\AppData\\Local\\Temp\\ipykernel_3480\\2279357325.py:37: FutureWarning: You are using `torch.load` with `weights_only=False` (the current default value), which uses the default pickle module implicitly. It is possible to construct malicious pickle data which will execute arbitrary code during unpickling (See https://github.com/pytorch/pytorch/blob/main/SECURITY.md#untrusted-models for more details). In a future release, the default value for `weights_only` will be flipped to `True`. This limits the functions that could be executed during unpickling. Arbitrary objects will no longer be allowed to be loaded via this mode unless they are explicitly allowlisted by the user via `torch.serialization.add_safe_globals`. We recommend you start setting `weights_only=True` for any use case where you don't have full control of the loaded file. Please open an issue on GitHub for any issues related to this experimental feature.\n",
      "  model.load_state_dict(torch.load(model_path, map_location=device))\n",
      "Testing: 100%|██████████| 314/314 [00:07<00:00, 44.22it/s]\n"
     ]
    },
    {
     "name": "stdout",
     "output_type": "stream",
     "text": [
      "\n",
      "file:../datasets/HC_T197_RP.txt \n",
      "Test Loss: 3.081436 Test Accuracy: 0.5663\n"
     ]
    },
    {
     "name": "stderr",
     "output_type": "stream",
     "text": [
      "Testing: 100%|██████████| 304/304 [00:06<00:00, 44.09it/s]\n"
     ]
    },
    {
     "name": "stdout",
     "output_type": "stream",
     "text": [
      "\n",
      "file:../datasets/HC_T194_RP.txt \n",
      "Test Loss: 3.823188 Test Accuracy: 0.3726\n"
     ]
    },
    {
     "name": "stderr",
     "output_type": "stream",
     "text": [
      "Testing: 100%|██████████| 314/314 [00:07<00:00, 44.81it/s]\n"
     ]
    },
    {
     "name": "stdout",
     "output_type": "stream",
     "text": [
      "\n",
      "file:../datasets/HC_T191_RP.txt \n",
      "Test Loss: 3.693304 Test Accuracy: 0.4461\n"
     ]
    },
    {
     "name": "stderr",
     "output_type": "stream",
     "text": [
      "Testing: 100%|██████████| 313/313 [00:06<00:00, 44.93it/s]\n"
     ]
    },
    {
     "name": "stdout",
     "output_type": "stream",
     "text": [
      "\n",
      "file:../datasets/HC_T188_RP.txt \n",
      "Test Loss: 3.450329 Test Accuracy: 0.4876\n"
     ]
    },
    {
     "name": "stderr",
     "output_type": "stream",
     "text": [
      "Testing: 100%|██████████| 309/309 [00:07<00:00, 41.47it/s]"
     ]
    },
    {
     "name": "stdout",
     "output_type": "stream",
     "text": [
      "\n",
      "file:../datasets/HC_T185_RP.txt \n",
      "Test Loss: 3.251379 Test Accuracy: 0.4448\n"
     ]
    },
    {
     "name": "stderr",
     "output_type": "stream",
     "text": [
      "\n"
     ]
    }
   ],
   "execution_count": 2
  },
  {
   "metadata": {
    "ExecuteTime": {
     "end_time": "2025-08-08T22:08:48.563265Z",
     "start_time": "2025-08-08T22:08:21.211897Z"
    }
   },
   "cell_type": "code",
   "source": [
    "# 设置随机种子\n",
    "seed = 44\n",
    "torch.manual_seed(seed)\n",
    "np.random.seed(seed)\n",
    "random.seed(seed)\n",
    "if torch.cuda.is_available():\n",
    "    torch.cuda.manual_seed_all(seed)\n",
    "\n",
    "# 加载配置\n",
    "with open(\"../configs/default.yaml\", 'r') as f:\n",
    "    config = yaml.safe_load(f)['baseline']\n",
    "\n",
    "batch_size = config['batch_size']\n",
    "num_layers = config['num_layers']\n",
    "kernel_size = config['kernel_size']\n",
    "start_channels = config['start_channels']\n",
    "\n",
    "# 设置设备\n",
    "device = torch.device(\"cuda\" if torch.cuda.is_available() else \"cpu\")\n",
    "file = ['../datasets/HC_T197_RP.txt','../datasets/HC_T194_RP.txt','../datasets/HC_T191_RP.txt','../datasets/HC_T188_RP.txt','../datasets/HC_T185_RP.txt']\n",
    "for item in file:\n",
    "    # 加载测试数据\n",
    "    test_dataset = PKLDataset(item,transform_type='zscore')\n",
    "    test_loader = DataLoader(test_dataset, batch_size=batch_size, shuffle=False)\n",
    "\n",
    "    # 初始化模型\n",
    "    model = Flexible_CNN(\n",
    "        num_layers=num_layers,\n",
    "        start_channels=start_channels,\n",
    "        kernel_size=kernel_size,\n",
    "        cnn_act='leakrelu',\n",
    "        num_classes=10\n",
    "    ).to(device)\n",
    "\n",
    "    # 加载模型权重\n",
    "    model_path = 'model/zscore_best_model.pth'\n",
    "    model.load_state_dict(torch.load(model_path, map_location=device))\n",
    "    model.eval()\n",
    "\n",
    "    # 定义损失函数\n",
    "    criterion = nn.CrossEntropyLoss()\n",
    "\n",
    "    # 评估模型\n",
    "    test_loss = 0.0\n",
    "    correct = 0\n",
    "    total = 0\n",
    "\n",
    "    with torch.no_grad():\n",
    "        for inputs, labels in tqdm(test_loader, desc=\"Testing\"):\n",
    "            inputs, labels = inputs.to(device), labels.to(device)\n",
    "            outputs = model(inputs)\n",
    "            outputs = outputs[0] if isinstance(outputs, tuple) else outputs\n",
    "            loss = criterion(outputs, labels)\n",
    "\n",
    "            test_loss += loss.item() * inputs.size(0)\n",
    "\n",
    "            _, preds = torch.max(outputs, 1)\n",
    "            correct += (preds == labels).sum().item()\n",
    "            total += labels.size(0)\n",
    "\n",
    "    test_loss /= total\n",
    "    test_accuracy = correct / total\n",
    "\n",
    "    print(f\"\\nfile:{item} \\nTest Loss: {test_loss:.6f} Test Accuracy: {test_accuracy:.4f}\")"
   ],
   "id": "3c2a4d9c3ce51616",
   "outputs": [
    {
     "name": "stderr",
     "output_type": "stream",
     "text": [
      "C:\\Users\\15185\\AppData\\Local\\Temp\\ipykernel_3480\\551622728.py:37: FutureWarning: You are using `torch.load` with `weights_only=False` (the current default value), which uses the default pickle module implicitly. It is possible to construct malicious pickle data which will execute arbitrary code during unpickling (See https://github.com/pytorch/pytorch/blob/main/SECURITY.md#untrusted-models for more details). In a future release, the default value for `weights_only` will be flipped to `True`. This limits the functions that could be executed during unpickling. Arbitrary objects will no longer be allowed to be loaded via this mode unless they are explicitly allowlisted by the user via `torch.serialization.add_safe_globals`. We recommend you start setting `weights_only=True` for any use case where you don't have full control of the loaded file. Please open an issue on GitHub for any issues related to this experimental feature.\n",
      "  model.load_state_dict(torch.load(model_path, map_location=device))\n",
      "Testing: 100%|██████████| 314/314 [00:05<00:00, 58.65it/s]\n"
     ]
    },
    {
     "name": "stdout",
     "output_type": "stream",
     "text": [
      "\n",
      "file:../datasets/HC_T197_RP.txt \n",
      "Test Loss: 3.289033 Test Accuracy: 0.5443\n"
     ]
    },
    {
     "name": "stderr",
     "output_type": "stream",
     "text": [
      "Testing: 100%|██████████| 304/304 [00:05<00:00, 58.08it/s]\n"
     ]
    },
    {
     "name": "stdout",
     "output_type": "stream",
     "text": [
      "\n",
      "file:../datasets/HC_T194_RP.txt \n",
      "Test Loss: 5.114453 Test Accuracy: 0.3687\n"
     ]
    },
    {
     "name": "stderr",
     "output_type": "stream",
     "text": [
      "Testing: 100%|██████████| 314/314 [00:05<00:00, 58.36it/s]\n"
     ]
    },
    {
     "name": "stdout",
     "output_type": "stream",
     "text": [
      "\n",
      "file:../datasets/HC_T191_RP.txt \n",
      "Test Loss: 4.210943 Test Accuracy: 0.3603\n"
     ]
    },
    {
     "name": "stderr",
     "output_type": "stream",
     "text": [
      "Testing: 100%|██████████| 313/313 [00:05<00:00, 54.12it/s]\n"
     ]
    },
    {
     "name": "stdout",
     "output_type": "stream",
     "text": [
      "\n",
      "file:../datasets/HC_T188_RP.txt \n",
      "Test Loss: 4.007939 Test Accuracy: 0.3415\n"
     ]
    },
    {
     "name": "stderr",
     "output_type": "stream",
     "text": [
      "Testing: 100%|██████████| 309/309 [00:05<00:00, 56.08it/s]"
     ]
    },
    {
     "name": "stdout",
     "output_type": "stream",
     "text": [
      "\n",
      "file:../datasets/HC_T185_RP.txt \n",
      "Test Loss: 2.867650 Test Accuracy: 0.4049\n"
     ]
    },
    {
     "name": "stderr",
     "output_type": "stream",
     "text": [
      "\n"
     ]
    }
   ],
   "execution_count": 3
  },
  {
   "metadata": {
    "ExecuteTime": {
     "end_time": "2025-08-08T22:18:59.245772Z",
     "start_time": "2025-08-08T22:18:30.970163Z"
    }
   },
   "cell_type": "code",
   "source": [
    "# 设置随机种子\n",
    "seed = 44\n",
    "torch.manual_seed(seed)\n",
    "np.random.seed(seed)\n",
    "random.seed(seed)\n",
    "if torch.cuda.is_available():\n",
    "    torch.cuda.manual_seed_all(seed)\n",
    "\n",
    "# 加载配置\n",
    "with open(\"../configs/default.yaml\", 'r') as f:\n",
    "    config = yaml.safe_load(f)['baseline']\n",
    "\n",
    "batch_size = config['batch_size']\n",
    "num_layers = config['num_layers']\n",
    "kernel_size = config['kernel_size']\n",
    "start_channels = config['start_channels']\n",
    "\n",
    "# 设置设备\n",
    "device = torch.device(\"cuda\" if torch.cuda.is_available() else \"cpu\")\n",
    "file = ['../datasets/HC_T197_RP.txt','../datasets/HC_T194_RP.txt','../datasets/HC_T191_RP.txt','../datasets/HC_T188_RP.txt','../datasets/HC_T185_RP.txt']\n",
    "for item in file:\n",
    "    # 加载测试数据\n",
    "    test_dataset = PKLDataset(item,transform_type='minmax')\n",
    "    test_loader = DataLoader(test_dataset, batch_size=batch_size, shuffle=False)\n",
    "\n",
    "    # 初始化模型\n",
    "    model = Flexible_CNN(\n",
    "        num_layers=num_layers,\n",
    "        start_channels=start_channels,\n",
    "        kernel_size=kernel_size,\n",
    "        cnn_act='leakrelu',\n",
    "        num_classes=10\n",
    "    ).to(device)\n",
    "\n",
    "    # 加载模型权重\n",
    "    model_path = 'model/minmax_best_model.pth'\n",
    "    model.load_state_dict(torch.load(model_path, map_location=device))\n",
    "    model.eval()\n",
    "\n",
    "    # 定义损失函数\n",
    "    criterion = nn.CrossEntropyLoss()\n",
    "\n",
    "    # 评估模型\n",
    "    test_loss = 0.0\n",
    "    correct = 0\n",
    "    total = 0\n",
    "\n",
    "    with torch.no_grad():\n",
    "        for inputs, labels in tqdm(test_loader, desc=\"Testing\"):\n",
    "            inputs, labels = inputs.to(device), labels.to(device)\n",
    "            outputs = model(inputs)\n",
    "            outputs = outputs[0] if isinstance(outputs, tuple) else outputs\n",
    "            loss = criterion(outputs, labels)\n",
    "\n",
    "            test_loss += loss.item() * inputs.size(0)\n",
    "\n",
    "            _, preds = torch.max(outputs, 1)\n",
    "            correct += (preds == labels).sum().item()\n",
    "            total += labels.size(0)\n",
    "\n",
    "    test_loss /= total\n",
    "    test_accuracy = correct / total\n",
    "\n",
    "    print(f\"\\nfile:{item} \\nTest Loss: {test_loss:.6f} Test Accuracy: {test_accuracy:.4f}\")"
   ],
   "id": "cef9a888154876dd",
   "outputs": [
    {
     "name": "stderr",
     "output_type": "stream",
     "text": [
      "C:\\Users\\15185\\AppData\\Local\\Temp\\ipykernel_3480\\4095279664.py:37: FutureWarning: You are using `torch.load` with `weights_only=False` (the current default value), which uses the default pickle module implicitly. It is possible to construct malicious pickle data which will execute arbitrary code during unpickling (See https://github.com/pytorch/pytorch/blob/main/SECURITY.md#untrusted-models for more details). In a future release, the default value for `weights_only` will be flipped to `True`. This limits the functions that could be executed during unpickling. Arbitrary objects will no longer be allowed to be loaded via this mode unless they are explicitly allowlisted by the user via `torch.serialization.add_safe_globals`. We recommend you start setting `weights_only=True` for any use case where you don't have full control of the loaded file. Please open an issue on GitHub for any issues related to this experimental feature.\n",
      "  model.load_state_dict(torch.load(model_path, map_location=device))\n",
      "Testing: 100%|██████████| 314/314 [00:05<00:00, 55.66it/s]\n"
     ]
    },
    {
     "name": "stdout",
     "output_type": "stream",
     "text": [
      "\n",
      "file:../datasets/HC_T197_RP.txt \n",
      "Test Loss: 3.796134 Test Accuracy: 0.5437\n"
     ]
    },
    {
     "name": "stderr",
     "output_type": "stream",
     "text": [
      "Testing: 100%|██████████| 304/304 [00:05<00:00, 55.82it/s]\n"
     ]
    },
    {
     "name": "stdout",
     "output_type": "stream",
     "text": [
      "\n",
      "file:../datasets/HC_T194_RP.txt \n",
      "Test Loss: 4.903335 Test Accuracy: 0.3001\n"
     ]
    },
    {
     "name": "stderr",
     "output_type": "stream",
     "text": [
      "Testing: 100%|██████████| 314/314 [00:05<00:00, 55.56it/s]\n"
     ]
    },
    {
     "name": "stdout",
     "output_type": "stream",
     "text": [
      "\n",
      "file:../datasets/HC_T191_RP.txt \n",
      "Test Loss: 4.056054 Test Accuracy: 0.3571\n"
     ]
    },
    {
     "name": "stderr",
     "output_type": "stream",
     "text": [
      "Testing: 100%|██████████| 313/313 [00:05<00:00, 55.48it/s]\n"
     ]
    },
    {
     "name": "stdout",
     "output_type": "stream",
     "text": [
      "\n",
      "file:../datasets/HC_T188_RP.txt \n",
      "Test Loss: 3.582129 Test Accuracy: 0.4047\n"
     ]
    },
    {
     "name": "stderr",
     "output_type": "stream",
     "text": [
      "Testing: 100%|██████████| 309/309 [00:05<00:00, 53.21it/s]"
     ]
    },
    {
     "name": "stdout",
     "output_type": "stream",
     "text": [
      "\n",
      "file:../datasets/HC_T185_RP.txt \n",
      "Test Loss: 3.044557 Test Accuracy: 0.3736\n"
     ]
    },
    {
     "name": "stderr",
     "output_type": "stream",
     "text": [
      "\n"
     ]
    }
   ],
   "execution_count": 4
  },
  {
   "metadata": {
    "ExecuteTime": {
     "end_time": "2025-08-08T22:44:02.617809Z",
     "start_time": "2025-08-08T22:43:35.541811Z"
    }
   },
   "cell_type": "code",
   "source": [
    "# 设置随机种子\n",
    "seed = 44\n",
    "torch.manual_seed(seed)\n",
    "np.random.seed(seed)\n",
    "random.seed(seed)\n",
    "if torch.cuda.is_available():\n",
    "    torch.cuda.manual_seed_all(seed)\n",
    "\n",
    "# 加载配置\n",
    "with open(\"../configs/default.yaml\", 'r') as f:\n",
    "    config = yaml.safe_load(f)['baseline']\n",
    "\n",
    "batch_size = config['batch_size']\n",
    "num_layers = config['num_layers']\n",
    "kernel_size = config['kernel_size']\n",
    "start_channels = config['start_channels']\n",
    "\n",
    "# 设置设备\n",
    "device = torch.device(\"cuda\" if torch.cuda.is_available() else \"cpu\")\n",
    "file = ['../datasets/HC_T197_RP.txt','../datasets/HC_T194_RP.txt','../datasets/HC_T191_RP.txt','../datasets/HC_T188_RP.txt','../datasets/HC_T185_RP.txt']\n",
    "\n",
    "normalize = fit_normalizer_from_txt('../datasets/source/train/DC_T197_RP.txt')\n",
    "for item in file:\n",
    "    # 加载测试数据\n",
    "\n",
    "    test_dataset = N_PKLDataset(item,transform_type='none',normalizer=normalize)\n",
    "    test_loader = DataLoader(test_dataset, batch_size=batch_size, shuffle=False)\n",
    "\n",
    "    # 初始化模型\n",
    "    model = Flexible_CNN(\n",
    "        num_layers=num_layers,\n",
    "        start_channels=start_channels,\n",
    "        kernel_size=kernel_size,\n",
    "        cnn_act='leakrelu',\n",
    "        num_classes=10\n",
    "    ).to(device)\n",
    "\n",
    "    # 加载模型权重\n",
    "    model_path = 'model/n_best_model.pth'\n",
    "    model.load_state_dict(torch.load(model_path, map_location=device))\n",
    "    model.eval()\n",
    "\n",
    "    # 定义损失函数\n",
    "    criterion = nn.CrossEntropyLoss()\n",
    "\n",
    "    # 评估模型\n",
    "    test_loss = 0.0\n",
    "    correct = 0\n",
    "    total = 0\n",
    "\n",
    "    with torch.no_grad():\n",
    "        for inputs, labels in tqdm(test_loader, desc=\"Testing\"):\n",
    "            inputs, labels = inputs.to(device), labels.to(device)\n",
    "            outputs = model(inputs)\n",
    "            outputs = outputs[0] if isinstance(outputs, tuple) else outputs\n",
    "            loss = criterion(outputs, labels)\n",
    "\n",
    "            test_loss += loss.item() * inputs.size(0)\n",
    "\n",
    "            _, preds = torch.max(outputs, 1)\n",
    "            correct += (preds == labels).sum().item()\n",
    "            total += labels.size(0)\n",
    "\n",
    "    test_loss /= total\n",
    "    test_accuracy = correct / total\n",
    "\n",
    "    print(f\"\\nfile:{item} \\nTest Loss: {test_loss:.6f} Test Accuracy: {test_accuracy:.4f}\")"
   ],
   "id": "33a3d47c991f77ce",
   "outputs": [
    {
     "name": "stderr",
     "output_type": "stream",
     "text": [
      "C:\\Users\\15185\\AppData\\Local\\Temp\\ipykernel_3480\\4054764413.py:40: FutureWarning: You are using `torch.load` with `weights_only=False` (the current default value), which uses the default pickle module implicitly. It is possible to construct malicious pickle data which will execute arbitrary code during unpickling (See https://github.com/pytorch/pytorch/blob/main/SECURITY.md#untrusted-models for more details). In a future release, the default value for `weights_only` will be flipped to `True`. This limits the functions that could be executed during unpickling. Arbitrary objects will no longer be allowed to be loaded via this mode unless they are explicitly allowlisted by the user via `torch.serialization.add_safe_globals`. We recommend you start setting `weights_only=True` for any use case where you don't have full control of the loaded file. Please open an issue on GitHub for any issues related to this experimental feature.\n",
      "  model.load_state_dict(torch.load(model_path, map_location=device))\n",
      "Testing: 100%|██████████| 314/314 [00:05<00:00, 59.33it/s]\n"
     ]
    },
    {
     "name": "stdout",
     "output_type": "stream",
     "text": [
      "\n",
      "file:../datasets/HC_T197_RP.txt \n",
      "Test Loss: 5.722581 Test Accuracy: 0.4535\n"
     ]
    },
    {
     "name": "stderr",
     "output_type": "stream",
     "text": [
      "Testing: 100%|██████████| 304/304 [00:05<00:00, 59.59it/s]\n"
     ]
    },
    {
     "name": "stdout",
     "output_type": "stream",
     "text": [
      "\n",
      "file:../datasets/HC_T194_RP.txt \n",
      "Test Loss: 10.884375 Test Accuracy: 0.2581\n"
     ]
    },
    {
     "name": "stderr",
     "output_type": "stream",
     "text": [
      "Testing: 100%|██████████| 314/314 [00:05<00:00, 59.29it/s]\n"
     ]
    },
    {
     "name": "stdout",
     "output_type": "stream",
     "text": [
      "\n",
      "file:../datasets/HC_T191_RP.txt \n",
      "Test Loss: 9.219116 Test Accuracy: 0.2024\n"
     ]
    },
    {
     "name": "stderr",
     "output_type": "stream",
     "text": [
      "Testing: 100%|██████████| 313/313 [00:05<00:00, 59.41it/s]\n"
     ]
    },
    {
     "name": "stdout",
     "output_type": "stream",
     "text": [
      "\n",
      "file:../datasets/HC_T188_RP.txt \n",
      "Test Loss: 9.764831 Test Accuracy: 0.1998\n"
     ]
    },
    {
     "name": "stderr",
     "output_type": "stream",
     "text": [
      "Testing: 100%|██████████| 309/309 [00:05<00:00, 58.87it/s]"
     ]
    },
    {
     "name": "stdout",
     "output_type": "stream",
     "text": [
      "\n",
      "file:../datasets/HC_T185_RP.txt \n",
      "Test Loss: 9.391093 Test Accuracy: 0.2006\n"
     ]
    },
    {
     "name": "stderr",
     "output_type": "stream",
     "text": [
      "\n"
     ]
    }
   ],
   "execution_count": 7
  },
  {
   "metadata": {
    "ExecuteTime": {
     "end_time": "2025-08-09T01:05:01.628018Z",
     "start_time": "2025-08-09T01:04:33.884785Z"
    }
   },
   "cell_type": "code",
   "source": [
    "# 设置随机种子\n",
    "seed = 44\n",
    "torch.manual_seed(seed)\n",
    "np.random.seed(seed)\n",
    "random.seed(seed)\n",
    "if torch.cuda.is_available():\n",
    "    torch.cuda.manual_seed_all(seed)\n",
    "\n",
    "# 加载配置\n",
    "with open(\"../configs/default.yaml\", 'r') as f:\n",
    "    config = yaml.safe_load(f)['baseline']\n",
    "\n",
    "batch_size = config['batch_size']\n",
    "num_layers = config['num_layers']\n",
    "kernel_size = config['kernel_size']\n",
    "start_channels = config['start_channels']\n",
    "\n",
    "# 设置设备\n",
    "device = torch.device(\"cuda\" if torch.cuda.is_available() else \"cpu\")\n",
    "file = ['../datasets/HC_T197_RP.txt','../datasets/HC_T194_RP.txt','../datasets/HC_T191_RP.txt','../datasets/HC_T188_RP.txt','../datasets/HC_T185_RP.txt']\n",
    "for item in file:\n",
    "    # 加载测试数据\n",
    "    test_dataset = PKLDataset(item)\n",
    "    test_loader = DataLoader(test_dataset, batch_size=batch_size, shuffle=False)\n",
    "\n",
    "    # 初始化模型\n",
    "    model = Flexible_CNN(\n",
    "        num_layers=num_layers,\n",
    "        start_channels=start_channels,\n",
    "        kernel_size=kernel_size,\n",
    "        cnn_act='leakrelu',\n",
    "        num_classes=10\n",
    "    ).to(device)\n",
    "\n",
    "    # 加载模型权重\n",
    "    model_path = 'model/test_best_model.pth'\n",
    "    model.load_state_dict(torch.load(model_path, map_location=device))\n",
    "    model.eval()\n",
    "\n",
    "    # 定义损失函数\n",
    "    criterion = nn.CrossEntropyLoss()\n",
    "\n",
    "    # 评估模型\n",
    "    test_loss = 0.0\n",
    "    correct = 0\n",
    "    total = 0\n",
    "\n",
    "    with torch.no_grad():\n",
    "        for inputs, labels in tqdm(test_loader, desc=\"Testing\"):\n",
    "            inputs, labels = inputs.to(device), labels.to(device)\n",
    "            outputs = model(inputs)\n",
    "            outputs = outputs[0] if isinstance(outputs, tuple) else outputs\n",
    "            loss = criterion(outputs, labels)\n",
    "\n",
    "            test_loss += loss.item() * inputs.size(0)\n",
    "\n",
    "            _, preds = torch.max(outputs, 1)\n",
    "            correct += (preds == labels).sum().item()\n",
    "            total += labels.size(0)\n",
    "\n",
    "    test_loss /= total\n",
    "    test_accuracy = correct / total\n",
    "\n",
    "    print(f\"\\nfile:{item} \\nTest Loss: {test_loss:.6f} Test Accuracy: {test_accuracy:.4f}\")"
   ],
   "id": "1839cff580efaa91",
   "outputs": [
    {
     "name": "stderr",
     "output_type": "stream",
     "text": [
      "C:\\Users\\15185\\AppData\\Local\\Temp\\ipykernel_13776\\3528050524.py:37: FutureWarning: You are using `torch.load` with `weights_only=False` (the current default value), which uses the default pickle module implicitly. It is possible to construct malicious pickle data which will execute arbitrary code during unpickling (See https://github.com/pytorch/pytorch/blob/main/SECURITY.md#untrusted-models for more details). In a future release, the default value for `weights_only` will be flipped to `True`. This limits the functions that could be executed during unpickling. Arbitrary objects will no longer be allowed to be loaded via this mode unless they are explicitly allowlisted by the user via `torch.serialization.add_safe_globals`. We recommend you start setting `weights_only=True` for any use case where you don't have full control of the loaded file. Please open an issue on GitHub for any issues related to this experimental feature.\n",
      "  model.load_state_dict(torch.load(model_path, map_location=device))\n",
      "Testing: 100%|██████████| 314/314 [00:05<00:00, 55.81it/s]\n"
     ]
    },
    {
     "name": "stdout",
     "output_type": "stream",
     "text": [
      "\n",
      "file:../datasets/HC_T197_RP.txt \n",
      "Test Loss: 2.956664 Test Accuracy: 0.4826\n"
     ]
    },
    {
     "name": "stderr",
     "output_type": "stream",
     "text": [
      "Testing: 100%|██████████| 304/304 [00:05<00:00, 56.53it/s]\n"
     ]
    },
    {
     "name": "stdout",
     "output_type": "stream",
     "text": [
      "\n",
      "file:../datasets/HC_T194_RP.txt \n",
      "Test Loss: 4.379561 Test Accuracy: 0.3553\n"
     ]
    },
    {
     "name": "stderr",
     "output_type": "stream",
     "text": [
      "Testing: 100%|██████████| 314/314 [00:05<00:00, 56.03it/s]\n"
     ]
    },
    {
     "name": "stdout",
     "output_type": "stream",
     "text": [
      "\n",
      "file:../datasets/HC_T191_RP.txt \n",
      "Test Loss: 4.246784 Test Accuracy: 0.3874\n"
     ]
    },
    {
     "name": "stderr",
     "output_type": "stream",
     "text": [
      "Testing: 100%|██████████| 313/313 [00:05<00:00, 56.26it/s]\n"
     ]
    },
    {
     "name": "stdout",
     "output_type": "stream",
     "text": [
      "\n",
      "file:../datasets/HC_T188_RP.txt \n",
      "Test Loss: 3.276514 Test Accuracy: 0.4722\n"
     ]
    },
    {
     "name": "stderr",
     "output_type": "stream",
     "text": [
      "Testing: 100%|██████████| 309/309 [00:05<00:00, 57.57it/s]"
     ]
    },
    {
     "name": "stdout",
     "output_type": "stream",
     "text": [
      "\n",
      "file:../datasets/HC_T185_RP.txt \n",
      "Test Loss: 3.017594 Test Accuracy: 0.4438\n"
     ]
    },
    {
     "name": "stderr",
     "output_type": "stream",
     "text": [
      "\n"
     ]
    }
   ],
   "execution_count": 2
  }
 ],
 "metadata": {
  "kernelspec": {
   "display_name": "Python 3",
   "language": "python",
   "name": "python3"
  },
  "language_info": {
   "codemirror_mode": {
    "name": "ipython",
    "version": 2
   },
   "file_extension": ".py",
   "mimetype": "text/x-python",
   "name": "python",
   "nbconvert_exporter": "python",
   "pygments_lexer": "ipython2",
   "version": "2.7.6"
  }
 },
 "nbformat": 4,
 "nbformat_minor": 5
}
