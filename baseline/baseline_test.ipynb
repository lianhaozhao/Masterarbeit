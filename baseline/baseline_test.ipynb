{
 "cells": [
  {
   "cell_type": "code",
   "id": "initial_id",
   "metadata": {
    "collapsed": true,
    "ExecuteTime": {
     "end_time": "2025-09-07T01:27:25.804307Z",
     "start_time": "2025-09-07T01:27:25.782846Z"
    }
   },
   "source": [
    "import os\n",
    "import torch\n",
    "import torch.nn as nn\n",
    "import numpy as np\n",
    "from models.Flexible_CNN import Flexible_CNN\n",
    "from PKLDataset import PKLDataset\n",
    "from torch.utils.data import DataLoader\n",
    "import yaml\n",
    "import random\n",
    "from tqdm import tqdm\n",
    "from n_PKLDataset import N_PKLDataset,fit_normalizer_from_txt"
   ],
   "outputs": [],
   "execution_count": 5
  },
  {
   "metadata": {
    "ExecuteTime": {
     "end_time": "2025-08-08T22:08:48.563265Z",
     "start_time": "2025-08-08T22:08:21.211897Z"
    }
   },
   "cell_type": "code",
   "source": [
    "# 设置随机种子\n",
    "seed = 44\n",
    "torch.manual_seed(seed)\n",
    "np.random.seed(seed)\n",
    "random.seed(seed)\n",
    "if torch.cuda.is_available():\n",
    "    torch.cuda.manual_seed_all(seed)\n",
    "\n",
    "# 加载配置\n",
    "with open(\"../configs/default.yaml\", 'r') as f:\n",
    "    config = yaml.safe_load(f)['baseline']\n",
    "\n",
    "batch_size = config['batch_size']\n",
    "num_layers = config['num_layers']\n",
    "kernel_size = config['kernel_size']\n",
    "start_channels = config['start_channels']\n",
    "\n",
    "# 设置设备\n",
    "device = torch.device(\"cuda\" if torch.cuda.is_available() else \"cpu\")\n",
    "file = ['../datasets/HC_T197_RP.txt','../datasets/HC_T194_RP.txt','../datasets/HC_T191_RP.txt','../datasets/HC_T188_RP.txt','../datasets/HC_T185_RP.txt']\n",
    "for item in file:\n",
    "    # 加载测试数据\n",
    "    test_dataset = PKLDataset(item,transform_type='zscore')\n",
    "    test_loader = DataLoader(test_dataset, batch_size=batch_size, shuffle=False)\n",
    "\n",
    "    # 初始化模型\n",
    "    model = Flexible_CNN(\n",
    "        num_layers=num_layers,\n",
    "        start_channels=start_channels,\n",
    "        kernel_size=kernel_size,\n",
    "        cnn_act='leakrelu',\n",
    "        num_classes=10\n",
    "    ).to(device)\n",
    "\n",
    "    # 加载模型权重\n",
    "    model_path = 'model/zscore_best_model.pth'\n",
    "    model.load_state_dict(torch.load(model_path, map_location=device))\n",
    "    model.eval()\n",
    "\n",
    "    # 定义损失函数\n",
    "    criterion = nn.CrossEntropyLoss()\n",
    "\n",
    "    # 评估模型\n",
    "    test_loss = 0.0\n",
    "    correct = 0\n",
    "    total = 0\n",
    "\n",
    "    with torch.no_grad():\n",
    "        for inputs, labels in tqdm(test_loader, desc=\"Testing\"):\n",
    "            inputs, labels = inputs.to(device), labels.to(device)\n",
    "            outputs = model(inputs)\n",
    "            outputs = outputs[0] if isinstance(outputs, tuple) else outputs\n",
    "            loss = criterion(outputs, labels)\n",
    "\n",
    "            test_loss += loss.item() * inputs.size(0)\n",
    "\n",
    "            _, preds = torch.max(outputs, 1)\n",
    "            correct += (preds == labels).sum().item()\n",
    "            total += labels.size(0)\n",
    "\n",
    "    test_loss /= total\n",
    "    test_accuracy = correct / total\n",
    "\n",
    "    print(f\"\\nfile:{item} \\nTest Loss: {test_loss:.6f} Test Accuracy: {test_accuracy:.4f}\")"
   ],
   "id": "3c2a4d9c3ce51616",
   "outputs": [
    {
     "name": "stderr",
     "output_type": "stream",
     "text": [
      "C:\\Users\\15185\\AppData\\Local\\Temp\\ipykernel_3480\\551622728.py:37: FutureWarning: You are using `torch.load` with `weights_only=False` (the current default value), which uses the default pickle module implicitly. It is possible to construct malicious pickle data which will execute arbitrary code during unpickling (See https://github.com/pytorch/pytorch/blob/main/SECURITY.md#untrusted-models for more details). In a future release, the default value for `weights_only` will be flipped to `True`. This limits the functions that could be executed during unpickling. Arbitrary objects will no longer be allowed to be loaded via this mode unless they are explicitly allowlisted by the user via `torch.serialization.add_safe_globals`. We recommend you start setting `weights_only=True` for any use case where you don't have full control of the loaded file. Please open an issue on GitHub for any issues related to this experimental feature.\n",
      "  model.load_state_dict(torch.load(model_path, map_location=device))\n",
      "Testing: 100%|██████████| 314/314 [00:05<00:00, 58.65it/s]\n"
     ]
    },
    {
     "name": "stdout",
     "output_type": "stream",
     "text": [
      "\n",
      "file:../datasets/HC_T197_RP.txt \n",
      "Test Loss: 3.289033 Test Accuracy: 0.5443\n"
     ]
    },
    {
     "name": "stderr",
     "output_type": "stream",
     "text": [
      "Testing: 100%|██████████| 304/304 [00:05<00:00, 58.08it/s]\n"
     ]
    },
    {
     "name": "stdout",
     "output_type": "stream",
     "text": [
      "\n",
      "file:../datasets/HC_T194_RP.txt \n",
      "Test Loss: 5.114453 Test Accuracy: 0.3687\n"
     ]
    },
    {
     "name": "stderr",
     "output_type": "stream",
     "text": [
      "Testing: 100%|██████████| 314/314 [00:05<00:00, 58.36it/s]\n"
     ]
    },
    {
     "name": "stdout",
     "output_type": "stream",
     "text": [
      "\n",
      "file:../datasets/HC_T191_RP.txt \n",
      "Test Loss: 4.210943 Test Accuracy: 0.3603\n"
     ]
    },
    {
     "name": "stderr",
     "output_type": "stream",
     "text": [
      "Testing: 100%|██████████| 313/313 [00:05<00:00, 54.12it/s]\n"
     ]
    },
    {
     "name": "stdout",
     "output_type": "stream",
     "text": [
      "\n",
      "file:../datasets/HC_T188_RP.txt \n",
      "Test Loss: 4.007939 Test Accuracy: 0.3415\n"
     ]
    },
    {
     "name": "stderr",
     "output_type": "stream",
     "text": [
      "Testing: 100%|██████████| 309/309 [00:05<00:00, 56.08it/s]"
     ]
    },
    {
     "name": "stdout",
     "output_type": "stream",
     "text": [
      "\n",
      "file:../datasets/HC_T185_RP.txt \n",
      "Test Loss: 2.867650 Test Accuracy: 0.4049\n"
     ]
    },
    {
     "name": "stderr",
     "output_type": "stream",
     "text": [
      "\n"
     ]
    }
   ],
   "execution_count": 3
  },
  {
   "metadata": {
    "ExecuteTime": {
     "end_time": "2025-08-08T22:18:59.245772Z",
     "start_time": "2025-08-08T22:18:30.970163Z"
    }
   },
   "cell_type": "code",
   "source": [
    "# 设置随机种子\n",
    "seed = 44\n",
    "torch.manual_seed(seed)\n",
    "np.random.seed(seed)\n",
    "random.seed(seed)\n",
    "if torch.cuda.is_available():\n",
    "    torch.cuda.manual_seed_all(seed)\n",
    "\n",
    "# 加载配置\n",
    "with open(\"../configs/default.yaml\", 'r') as f:\n",
    "    config = yaml.safe_load(f)['baseline']\n",
    "\n",
    "batch_size = config['batch_size']\n",
    "num_layers = config['num_layers']\n",
    "kernel_size = config['kernel_size']\n",
    "start_channels = config['start_channels']\n",
    "\n",
    "# 设置设备\n",
    "device = torch.device(\"cuda\" if torch.cuda.is_available() else \"cpu\")\n",
    "file = ['../datasets/HC_T197_RP.txt','../datasets/HC_T194_RP.txt','../datasets/HC_T191_RP.txt','../datasets/HC_T188_RP.txt','../datasets/HC_T185_RP.txt']\n",
    "for item in file:\n",
    "    # 加载测试数据\n",
    "    test_dataset = PKLDataset(item,transform_type='minmax')\n",
    "    test_loader = DataLoader(test_dataset, batch_size=batch_size, shuffle=False)\n",
    "\n",
    "    # 初始化模型\n",
    "    model = Flexible_CNN(\n",
    "        num_layers=num_layers,\n",
    "        start_channels=start_channels,\n",
    "        kernel_size=kernel_size,\n",
    "        cnn_act='leakrelu',\n",
    "        num_classes=10\n",
    "    ).to(device)\n",
    "\n",
    "    # 加载模型权重\n",
    "    model_path = 'model/minmax_best_model.pth'\n",
    "    model.load_state_dict(torch.load(model_path, map_location=device))\n",
    "    model.eval()\n",
    "\n",
    "    # 定义损失函数\n",
    "    criterion = nn.CrossEntropyLoss()\n",
    "\n",
    "    # 评估模型\n",
    "    test_loss = 0.0\n",
    "    correct = 0\n",
    "    total = 0\n",
    "\n",
    "    with torch.no_grad():\n",
    "        for inputs, labels in tqdm(test_loader, desc=\"Testing\"):\n",
    "            inputs, labels = inputs.to(device), labels.to(device)\n",
    "            outputs = model(inputs)\n",
    "            outputs = outputs[0] if isinstance(outputs, tuple) else outputs\n",
    "            loss = criterion(outputs, labels)\n",
    "\n",
    "            test_loss += loss.item() * inputs.size(0)\n",
    "\n",
    "            _, preds = torch.max(outputs, 1)\n",
    "            correct += (preds == labels).sum().item()\n",
    "            total += labels.size(0)\n",
    "\n",
    "    test_loss /= total\n",
    "    test_accuracy = correct / total\n",
    "\n",
    "    print(f\"\\nfile:{item} \\nTest Loss: {test_loss:.6f} Test Accuracy: {test_accuracy:.4f}\")"
   ],
   "id": "cef9a888154876dd",
   "outputs": [
    {
     "name": "stderr",
     "output_type": "stream",
     "text": [
      "C:\\Users\\15185\\AppData\\Local\\Temp\\ipykernel_3480\\4095279664.py:37: FutureWarning: You are using `torch.load` with `weights_only=False` (the current default value), which uses the default pickle module implicitly. It is possible to construct malicious pickle data which will execute arbitrary code during unpickling (See https://github.com/pytorch/pytorch/blob/main/SECURITY.md#untrusted-models for more details). In a future release, the default value for `weights_only` will be flipped to `True`. This limits the functions that could be executed during unpickling. Arbitrary objects will no longer be allowed to be loaded via this mode unless they are explicitly allowlisted by the user via `torch.serialization.add_safe_globals`. We recommend you start setting `weights_only=True` for any use case where you don't have full control of the loaded file. Please open an issue on GitHub for any issues related to this experimental feature.\n",
      "  model.load_state_dict(torch.load(model_path, map_location=device))\n",
      "Testing: 100%|██████████| 314/314 [00:05<00:00, 55.66it/s]\n"
     ]
    },
    {
     "name": "stdout",
     "output_type": "stream",
     "text": [
      "\n",
      "file:../datasets/HC_T197_RP.txt \n",
      "Test Loss: 3.796134 Test Accuracy: 0.5437\n"
     ]
    },
    {
     "name": "stderr",
     "output_type": "stream",
     "text": [
      "Testing: 100%|██████████| 304/304 [00:05<00:00, 55.82it/s]\n"
     ]
    },
    {
     "name": "stdout",
     "output_type": "stream",
     "text": [
      "\n",
      "file:../datasets/HC_T194_RP.txt \n",
      "Test Loss: 4.903335 Test Accuracy: 0.3001\n"
     ]
    },
    {
     "name": "stderr",
     "output_type": "stream",
     "text": [
      "Testing: 100%|██████████| 314/314 [00:05<00:00, 55.56it/s]\n"
     ]
    },
    {
     "name": "stdout",
     "output_type": "stream",
     "text": [
      "\n",
      "file:../datasets/HC_T191_RP.txt \n",
      "Test Loss: 4.056054 Test Accuracy: 0.3571\n"
     ]
    },
    {
     "name": "stderr",
     "output_type": "stream",
     "text": [
      "Testing: 100%|██████████| 313/313 [00:05<00:00, 55.48it/s]\n"
     ]
    },
    {
     "name": "stdout",
     "output_type": "stream",
     "text": [
      "\n",
      "file:../datasets/HC_T188_RP.txt \n",
      "Test Loss: 3.582129 Test Accuracy: 0.4047\n"
     ]
    },
    {
     "name": "stderr",
     "output_type": "stream",
     "text": [
      "Testing: 100%|██████████| 309/309 [00:05<00:00, 53.21it/s]"
     ]
    },
    {
     "name": "stdout",
     "output_type": "stream",
     "text": [
      "\n",
      "file:../datasets/HC_T185_RP.txt \n",
      "Test Loss: 3.044557 Test Accuracy: 0.3736\n"
     ]
    },
    {
     "name": "stderr",
     "output_type": "stream",
     "text": [
      "\n"
     ]
    }
   ],
   "execution_count": 4
  },
  {
   "metadata": {
    "ExecuteTime": {
     "end_time": "2025-08-08T22:44:02.617809Z",
     "start_time": "2025-08-08T22:43:35.541811Z"
    }
   },
   "cell_type": "code",
   "source": [
    "# 设置随机种子\n",
    "seed = 44\n",
    "torch.manual_seed(seed)\n",
    "np.random.seed(seed)\n",
    "random.seed(seed)\n",
    "if torch.cuda.is_available():\n",
    "    torch.cuda.manual_seed_all(seed)\n",
    "\n",
    "# 加载配置\n",
    "with open(\"../configs/default.yaml\", 'r') as f:\n",
    "    config = yaml.safe_load(f)['baseline']\n",
    "\n",
    "batch_size = config['batch_size']\n",
    "num_layers = config['num_layers']\n",
    "kernel_size = config['kernel_size']\n",
    "start_channels = config['start_channels']\n",
    "\n",
    "# 设置设备\n",
    "device = torch.device(\"cuda\" if torch.cuda.is_available() else \"cpu\")\n",
    "file = ['../datasets/HC_T197_RP.txt','../datasets/HC_T194_RP.txt','../datasets/HC_T191_RP.txt','../datasets/HC_T188_RP.txt','../datasets/HC_T185_RP.txt']\n",
    "\n",
    "normalize = fit_normalizer_from_txt('../datasets/source/train/DC_T197_RP.txt')\n",
    "for item in file:\n",
    "    # 加载测试数据\n",
    "\n",
    "    test_dataset = N_PKLDataset(item,transform_type='none',normalizer=normalize)\n",
    "    test_loader = DataLoader(test_dataset, batch_size=batch_size, shuffle=False)\n",
    "\n",
    "    # 初始化模型\n",
    "    model = Flexible_CNN(\n",
    "        num_layers=num_layers,\n",
    "        start_channels=start_channels,\n",
    "        kernel_size=kernel_size,\n",
    "        cnn_act='leakrelu',\n",
    "        num_classes=10\n",
    "    ).to(device)\n",
    "\n",
    "    # 加载模型权重\n",
    "    model_path = 'model/n_best_model.pth'\n",
    "    model.load_state_dict(torch.load(model_path, map_location=device))\n",
    "    model.eval()\n",
    "\n",
    "    # 定义损失函数\n",
    "    criterion = nn.CrossEntropyLoss()\n",
    "\n",
    "    # 评估模型\n",
    "    test_loss = 0.0\n",
    "    correct = 0\n",
    "    total = 0\n",
    "\n",
    "    with torch.no_grad():\n",
    "        for inputs, labels in tqdm(test_loader, desc=\"Testing\"):\n",
    "            inputs, labels = inputs.to(device), labels.to(device)\n",
    "            outputs = model(inputs)\n",
    "            outputs = outputs[0] if isinstance(outputs, tuple) else outputs\n",
    "            loss = criterion(outputs, labels)\n",
    "\n",
    "            test_loss += loss.item() * inputs.size(0)\n",
    "\n",
    "            _, preds = torch.max(outputs, 1)\n",
    "            correct += (preds == labels).sum().item()\n",
    "            total += labels.size(0)\n",
    "\n",
    "    test_loss /= total\n",
    "    test_accuracy = correct / total\n",
    "\n",
    "    print(f\"\\nfile:{item} \\nTest Loss: {test_loss:.6f} Test Accuracy: {test_accuracy:.4f}\")"
   ],
   "id": "33a3d47c991f77ce",
   "outputs": [
    {
     "name": "stderr",
     "output_type": "stream",
     "text": [
      "C:\\Users\\15185\\AppData\\Local\\Temp\\ipykernel_3480\\4054764413.py:40: FutureWarning: You are using `torch.load` with `weights_only=False` (the current default value), which uses the default pickle module implicitly. It is possible to construct malicious pickle data which will execute arbitrary code during unpickling (See https://github.com/pytorch/pytorch/blob/main/SECURITY.md#untrusted-models for more details). In a future release, the default value for `weights_only` will be flipped to `True`. This limits the functions that could be executed during unpickling. Arbitrary objects will no longer be allowed to be loaded via this mode unless they are explicitly allowlisted by the user via `torch.serialization.add_safe_globals`. We recommend you start setting `weights_only=True` for any use case where you don't have full control of the loaded file. Please open an issue on GitHub for any issues related to this experimental feature.\n",
      "  model.load_state_dict(torch.load(model_path, map_location=device))\n",
      "Testing: 100%|██████████| 314/314 [00:05<00:00, 59.33it/s]\n"
     ]
    },
    {
     "name": "stdout",
     "output_type": "stream",
     "text": [
      "\n",
      "file:../datasets/HC_T197_RP.txt \n",
      "Test Loss: 5.722581 Test Accuracy: 0.4535\n"
     ]
    },
    {
     "name": "stderr",
     "output_type": "stream",
     "text": [
      "Testing: 100%|██████████| 304/304 [00:05<00:00, 59.59it/s]\n"
     ]
    },
    {
     "name": "stdout",
     "output_type": "stream",
     "text": [
      "\n",
      "file:../datasets/HC_T194_RP.txt \n",
      "Test Loss: 10.884375 Test Accuracy: 0.2581\n"
     ]
    },
    {
     "name": "stderr",
     "output_type": "stream",
     "text": [
      "Testing: 100%|██████████| 314/314 [00:05<00:00, 59.29it/s]\n"
     ]
    },
    {
     "name": "stdout",
     "output_type": "stream",
     "text": [
      "\n",
      "file:../datasets/HC_T191_RP.txt \n",
      "Test Loss: 9.219116 Test Accuracy: 0.2024\n"
     ]
    },
    {
     "name": "stderr",
     "output_type": "stream",
     "text": [
      "Testing: 100%|██████████| 313/313 [00:05<00:00, 59.41it/s]\n"
     ]
    },
    {
     "name": "stdout",
     "output_type": "stream",
     "text": [
      "\n",
      "file:../datasets/HC_T188_RP.txt \n",
      "Test Loss: 9.764831 Test Accuracy: 0.1998\n"
     ]
    },
    {
     "name": "stderr",
     "output_type": "stream",
     "text": [
      "Testing: 100%|██████████| 309/309 [00:05<00:00, 58.87it/s]"
     ]
    },
    {
     "name": "stdout",
     "output_type": "stream",
     "text": [
      "\n",
      "file:../datasets/HC_T185_RP.txt \n",
      "Test Loss: 9.391093 Test Accuracy: 0.2006\n"
     ]
    },
    {
     "name": "stderr",
     "output_type": "stream",
     "text": [
      "\n"
     ]
    }
   ],
   "execution_count": 7
  },
  {
   "metadata": {
    "ExecuteTime": {
     "end_time": "2025-08-10T23:54:14.011660Z",
     "start_time": "2025-08-10T23:53:39.033730Z"
    }
   },
   "cell_type": "code",
   "source": [
    "# 设置随机种子\n",
    "seed = 44\n",
    "torch.manual_seed(seed)\n",
    "np.random.seed(seed)\n",
    "random.seed(seed)\n",
    "if torch.cuda.is_available():\n",
    "    torch.cuda.manual_seed_all(seed)\n",
    "\n",
    "# 加载配置\n",
    "with open(\"../configs/default.yaml\", 'r') as f:\n",
    "    config = yaml.safe_load(f)['baseline']\n",
    "\n",
    "batch_size = config['batch_size']\n",
    "num_layers = config['num_layers']\n",
    "kernel_size = config['kernel_size']\n",
    "start_channels = config['start_channels']\n",
    "\n",
    "# 设置设备\n",
    "device = torch.device(\"cuda\" if torch.cuda.is_available() else \"cpu\")\n",
    "file = ['../datasets/HC_T197_RP.txt','../datasets/HC_T194_RP.txt','../datasets/HC_T191_RP.txt','../datasets/HC_T188_RP.txt','../datasets/HC_T185_RP.txt']\n",
    "for item in file:\n",
    "    # 加载测试数据\n",
    "    test_dataset = PKLDataset(item)\n",
    "    test_loader = DataLoader(test_dataset, batch_size=batch_size, shuffle=False)\n",
    "\n",
    "    # 初始化模型\n",
    "    model = Flexible_CNN(\n",
    "        num_layers=num_layers,\n",
    "        start_channels=start_channels,\n",
    "        kernel_size=kernel_size,\n",
    "        cnn_act='leakrelu',\n",
    "        num_classes=10\n",
    "    ).to(device)\n",
    "\n",
    "    # 加载模型权重\n",
    "    model_path = 'model/test_best_model.pth'\n",
    "    model.load_state_dict(torch.load(model_path, map_location=device))\n",
    "    model.eval()\n",
    "\n",
    "    # 定义损失函数\n",
    "    criterion = nn.CrossEntropyLoss()\n",
    "\n",
    "    # 评估模型\n",
    "    test_loss = 0.0\n",
    "    correct = 0\n",
    "    total = 0\n",
    "\n",
    "    with torch.no_grad():\n",
    "        for inputs, labels in tqdm(test_loader, desc=\"Testing\"):\n",
    "            inputs, labels = inputs.to(device), labels.to(device)\n",
    "            outputs = model(inputs)\n",
    "            outputs = outputs[0] if isinstance(outputs, tuple) else outputs\n",
    "            loss = criterion(outputs, labels)\n",
    "\n",
    "            test_loss += loss.item() * inputs.size(0)\n",
    "\n",
    "            _, preds = torch.max(outputs, 1)\n",
    "            correct += (preds == labels).sum().item()\n",
    "            total += labels.size(0)\n",
    "\n",
    "    test_loss /= total\n",
    "    test_accuracy = correct / total\n",
    "\n",
    "    print(f\"\\nfile:{item} \\nTest Loss: {test_loss:.6f} Test Accuracy: {test_accuracy:.4f}\")"
   ],
   "id": "1839cff580efaa91",
   "outputs": [
    {
     "name": "stderr",
     "output_type": "stream",
     "text": [
      "C:\\Users\\15185\\AppData\\Local\\Temp\\ipykernel_10392\\3528050524.py:37: FutureWarning: You are using `torch.load` with `weights_only=False` (the current default value), which uses the default pickle module implicitly. It is possible to construct malicious pickle data which will execute arbitrary code during unpickling (See https://github.com/pytorch/pytorch/blob/main/SECURITY.md#untrusted-models for more details). In a future release, the default value for `weights_only` will be flipped to `True`. This limits the functions that could be executed during unpickling. Arbitrary objects will no longer be allowed to be loaded via this mode unless they are explicitly allowlisted by the user via `torch.serialization.add_safe_globals`. We recommend you start setting `weights_only=True` for any use case where you don't have full control of the loaded file. Please open an issue on GitHub for any issues related to this experimental feature.\n",
      "  model.load_state_dict(torch.load(model_path, map_location=device))\n",
      "Testing: 100%|██████████| 314/314 [00:07<00:00, 40.37it/s]\n"
     ]
    },
    {
     "name": "stdout",
     "output_type": "stream",
     "text": [
      "\n",
      "file:../datasets/HC_T197_RP.txt \n",
      "Test Loss: 4.332411 Test Accuracy: 0.4064\n"
     ]
    },
    {
     "name": "stderr",
     "output_type": "stream",
     "text": [
      "Testing: 100%|██████████| 304/304 [00:07<00:00, 42.90it/s]\n"
     ]
    },
    {
     "name": "stdout",
     "output_type": "stream",
     "text": [
      "\n",
      "file:../datasets/HC_T194_RP.txt \n",
      "Test Loss: 5.073543 Test Accuracy: 0.2775\n"
     ]
    },
    {
     "name": "stderr",
     "output_type": "stream",
     "text": [
      "Testing: 100%|██████████| 314/314 [00:07<00:00, 42.58it/s]\n"
     ]
    },
    {
     "name": "stdout",
     "output_type": "stream",
     "text": [
      "\n",
      "file:../datasets/HC_T191_RP.txt \n",
      "Test Loss: 5.120427 Test Accuracy: 0.3379\n"
     ]
    },
    {
     "name": "stderr",
     "output_type": "stream",
     "text": [
      "Testing: 100%|██████████| 313/313 [00:07<00:00, 43.22it/s]\n"
     ]
    },
    {
     "name": "stdout",
     "output_type": "stream",
     "text": [
      "\n",
      "file:../datasets/HC_T188_RP.txt \n",
      "Test Loss: 4.700144 Test Accuracy: 0.3116\n"
     ]
    },
    {
     "name": "stderr",
     "output_type": "stream",
     "text": [
      "Testing: 100%|██████████| 309/309 [00:05<00:00, 58.14it/s]"
     ]
    },
    {
     "name": "stdout",
     "output_type": "stream",
     "text": [
      "\n",
      "file:../datasets/HC_T185_RP.txt \n",
      "Test Loss: 3.627950 Test Accuracy: 0.3996\n"
     ]
    },
    {
     "name": "stderr",
     "output_type": "stream",
     "text": [
      "\n"
     ]
    }
   ],
   "execution_count": 4
  },
  {
   "metadata": {
    "ExecuteTime": {
     "end_time": "2025-08-26T18:10:50.775864Z",
     "start_time": "2025-08-26T18:10:26.217078Z"
    }
   },
   "cell_type": "code",
   "source": [
    "# 设置随机种子\n",
    "seed = 44\n",
    "torch.manual_seed(seed)\n",
    "np.random.seed(seed)\n",
    "random.seed(seed)\n",
    "if torch.cuda.is_available():\n",
    "    torch.cuda.manual_seed_all(seed)\n",
    "\n",
    "# 加载配置\n",
    "with open(\"../configs/default.yaml\", 'r') as f:\n",
    "    config = yaml.safe_load(f)['DANN_LMMD_INFO']\n",
    "\n",
    "batch_size = config['batch_size']\n",
    "num_layers = config['num_layers']\n",
    "kernel_size = config['kernel_size']\n",
    "start_channels = config['start_channels']\n",
    "\n",
    "# 设置设备\n",
    "device = torch.device(\"cuda\" if torch.cuda.is_available() else \"cpu\")\n",
    "file = ['../datasets/HC_T197_RP.txt','../datasets/HC_T194_RP.txt','../datasets/HC_T191_RP.txt','../datasets/HC_T188_RP.txt','../datasets/HC_T185_RP.txt']\n",
    "for item in file:\n",
    "    # 加载测试数据\n",
    "    test_dataset = PKLDataset(item)\n",
    "    test_loader = DataLoader(test_dataset, batch_size=batch_size, shuffle=False)\n",
    "\n",
    "    # 初始化模型\n",
    "    model = Flexible_CNN(\n",
    "        num_layers=num_layers,\n",
    "        start_channels=start_channels,\n",
    "        kernel_size=kernel_size,\n",
    "        cnn_act='leakrelu',\n",
    "        num_classes=10\n",
    "    ).to(device)\n",
    "\n",
    "    # 加载模型权重\n",
    "    model_path = 'model/neu_best_model.pth'\n",
    "    model.load_state_dict(torch.load(model_path, map_location=device))\n",
    "    model.eval()\n",
    "\n",
    "    # 定义损失函数\n",
    "    criterion = nn.CrossEntropyLoss()\n",
    "\n",
    "    # 评估模型\n",
    "    test_loss = 0.0\n",
    "    correct = 0\n",
    "    total = 0\n",
    "\n",
    "    with torch.no_grad():\n",
    "        for inputs, labels in tqdm(test_loader, desc=\"Testing\"):\n",
    "            inputs, labels = inputs.to(device), labels.to(device)\n",
    "            outputs = model(inputs)\n",
    "            outputs = outputs[0] if isinstance(outputs, tuple) else outputs\n",
    "            loss = criterion(outputs, labels)\n",
    "\n",
    "            test_loss += loss.item() * inputs.size(0)\n",
    "\n",
    "            _, preds = torch.max(outputs, 1)\n",
    "            correct += (preds == labels).sum().item()\n",
    "            total += labels.size(0)\n",
    "\n",
    "    test_loss /= total\n",
    "    test_accuracy = correct / total\n",
    "\n",
    "    print(f\"\\nfile:{item} \\nTest Loss: {test_loss:.6f} Test Accuracy: {test_accuracy:.4f}\")"
   ],
   "id": "d9515495db9db67",
   "outputs": [
    {
     "name": "stderr",
     "output_type": "stream",
     "text": [
      "C:\\Users\\15185\\AppData\\Local\\Temp\\ipykernel_34456\\3974426682.py:37: FutureWarning: You are using `torch.load` with `weights_only=False` (the current default value), which uses the default pickle module implicitly. It is possible to construct malicious pickle data which will execute arbitrary code during unpickling (See https://github.com/pytorch/pytorch/blob/main/SECURITY.md#untrusted-models for more details). In a future release, the default value for `weights_only` will be flipped to `True`. This limits the functions that could be executed during unpickling. Arbitrary objects will no longer be allowed to be loaded via this mode unless they are explicitly allowlisted by the user via `torch.serialization.add_safe_globals`. We recommend you start setting `weights_only=True` for any use case where you don't have full control of the loaded file. Please open an issue on GitHub for any issues related to this experimental feature.\n",
      "  model.load_state_dict(torch.load(model_path, map_location=device))\n",
      "Testing: 100%|██████████| 157/157 [00:03<00:00, 40.75it/s]\n"
     ]
    },
    {
     "name": "stdout",
     "output_type": "stream",
     "text": [
      "\n",
      "file:../datasets/HC_T197_RP.txt \n",
      "Test Loss: 4.759143 Test Accuracy: 0.3389\n"
     ]
    },
    {
     "name": "stderr",
     "output_type": "stream",
     "text": [
      "Testing: 100%|██████████| 152/152 [00:03<00:00, 42.10it/s]\n"
     ]
    },
    {
     "name": "stdout",
     "output_type": "stream",
     "text": [
      "\n",
      "file:../datasets/HC_T194_RP.txt \n",
      "Test Loss: 6.102895 Test Accuracy: 0.2804\n"
     ]
    },
    {
     "name": "stderr",
     "output_type": "stream",
     "text": [
      "Testing: 100%|██████████| 157/157 [00:05<00:00, 26.45it/s]\n"
     ]
    },
    {
     "name": "stdout",
     "output_type": "stream",
     "text": [
      "\n",
      "file:../datasets/HC_T191_RP.txt \n",
      "Test Loss: 6.191556 Test Accuracy: 0.3008\n"
     ]
    },
    {
     "name": "stderr",
     "output_type": "stream",
     "text": [
      "Testing: 100%|██████████| 157/157 [00:05<00:00, 27.89it/s]\n"
     ]
    },
    {
     "name": "stdout",
     "output_type": "stream",
     "text": [
      "\n",
      "file:../datasets/HC_T188_RP.txt \n",
      "Test Loss: 5.806758 Test Accuracy: 0.2980\n"
     ]
    },
    {
     "name": "stderr",
     "output_type": "stream",
     "text": [
      "Testing: 100%|██████████| 155/155 [00:05<00:00, 28.97it/s]"
     ]
    },
    {
     "name": "stdout",
     "output_type": "stream",
     "text": [
      "\n",
      "file:../datasets/HC_T185_RP.txt \n",
      "Test Loss: 4.527256 Test Accuracy: 0.3118\n"
     ]
    },
    {
     "name": "stderr",
     "output_type": "stream",
     "text": [
      "\n"
     ]
    }
   ],
   "execution_count": 3
  },
  {
   "metadata": {
    "ExecuteTime": {
     "end_time": "2025-09-07T01:28:26.881629Z",
     "start_time": "2025-09-07T01:28:26.783381Z"
    }
   },
   "cell_type": "code",
   "source": [
    "# 设置随机种子\n",
    "seed = 44\n",
    "torch.manual_seed(seed)\n",
    "np.random.seed(seed)\n",
    "random.seed(seed)\n",
    "if torch.cuda.is_available():\n",
    "    torch.cuda.manual_seed_all(seed)\n",
    "\n",
    "# 加载配置\n",
    "with open(\"../configs/default.yaml\", 'r') as f:\n",
    "    config = yaml.safe_load(f)['Baseline']\n",
    "\n",
    "batch_size = config['batch_size']\n",
    "num_layers = config['num_layers']\n",
    "kernel_size = config['kernel_size']\n",
    "start_channels = config['start_channels']\n",
    "\n",
    "# 设置设备\n",
    "device = torch.device(\"cuda\" if torch.cuda.is_available() else \"cpu\")\n",
    "for i in range(1):\n",
    "    model_path = f'model/run_{i}/best_model.pth'\n",
    "    print(f\"run{i}start\")\n",
    "    file = ['../datasets/HC_T197_RP.txt','../datasets/HC_T194_RP.txt','../datasets/HC_T191_RP.txt','../datasets/HC_T188_RP.txt','../datasets/HC_T185_RP.txt']\n",
    "    for item in file:\n",
    "        # 加载测试数据\n",
    "        test_dataset = PKLDataset(item)\n",
    "        test_loader = DataLoader(test_dataset, batch_size=batch_size, shuffle=False)\n",
    "\n",
    "        # 初始化模型\n",
    "        model = Flexible_CNN(\n",
    "            num_layers=num_layers,\n",
    "            start_channels=start_channels,\n",
    "            kernel_size=kernel_size,\n",
    "            cnn_act='leakrelu',\n",
    "            num_classes=10\n",
    "        ).to(device)\n",
    "\n",
    "        # 加载模型权重\n",
    "        model.load_state_dict(torch.load(model_path, map_location=device))\n",
    "        model.eval()\n",
    "\n",
    "        # 定义损失函数\n",
    "        criterion = nn.CrossEntropyLoss()\n",
    "\n",
    "        # 评估模型\n",
    "        test_loss = 0.0\n",
    "        correct = 0\n",
    "        total = 0\n",
    "\n",
    "        with torch.no_grad():\n",
    "            for inputs, labels in tqdm(test_loader, desc=\"Testing\"):\n",
    "                inputs, labels = inputs.to(device), labels.to(device)\n",
    "                outputs = model(inputs)\n",
    "                outputs = outputs[0] if isinstance(outputs, tuple) else outputs\n",
    "                loss = criterion(outputs, labels)\n",
    "\n",
    "                test_loss += loss.item() * inputs.size(0)\n",
    "\n",
    "                _, preds = torch.max(outputs, 1)\n",
    "                correct += (preds == labels).sum().item()\n",
    "                total += labels.size(0)\n",
    "\n",
    "        test_loss /= total\n",
    "        test_accuracy = correct / total\n",
    "\n",
    "        print(f\"\\nfile:{item} \\nTest Loss: {test_loss:.6f} Test Accuracy: {test_accuracy:.4f}\")"
   ],
   "id": "8cfd3a3c92cf76e2",
   "outputs": [
    {
     "name": "stdout",
     "output_type": "stream",
     "text": [
      "run0start\n"
     ]
    },
    {
     "name": "stderr",
     "output_type": "stream",
     "text": [
      "C:\\Users\\15185\\AppData\\Local\\Temp\\ipykernel_57416\\3141268553.py:39: FutureWarning: You are using `torch.load` with `weights_only=False` (the current default value), which uses the default pickle module implicitly. It is possible to construct malicious pickle data which will execute arbitrary code during unpickling (See https://github.com/pytorch/pytorch/blob/main/SECURITY.md#untrusted-models for more details). In a future release, the default value for `weights_only` will be flipped to `True`. This limits the functions that could be executed during unpickling. Arbitrary objects will no longer be allowed to be loaded via this mode unless they are explicitly allowlisted by the user via `torch.serialization.add_safe_globals`. We recommend you start setting `weights_only=True` for any use case where you don't have full control of the loaded file. Please open an issue on GitHub for any issues related to this experimental feature.\n",
      "  model.load_state_dict(torch.load(model_path, map_location=device))\n"
     ]
    },
    {
     "ename": "RuntimeError",
     "evalue": "Error(s) in loading state_dict for Flexible_CNN:\n\tsize mismatch for classifier.weight: copying a param with shape torch.Size([10, 256]) from checkpoint, the shape in current model is torch.Size([10, 512]).\n\tsize mismatch for classifier.feat_proj.0.weight: copying a param with shape torch.Size([256, 512]) from checkpoint, the shape in current model is torch.Size([512, 22272]).\n\tsize mismatch for classifier.feat_proj.0.bias: copying a param with shape torch.Size([256]) from checkpoint, the shape in current model is torch.Size([512]).\n\tsize mismatch for classifier.feat_proj.1.weight: copying a param with shape torch.Size([256]) from checkpoint, the shape in current model is torch.Size([512]).\n\tsize mismatch for classifier.feat_proj.1.bias: copying a param with shape torch.Size([256]) from checkpoint, the shape in current model is torch.Size([512]).",
     "output_type": "error",
     "traceback": [
      "\u001B[31m---------------------------------------------------------------------------\u001B[39m",
      "\u001B[31mRuntimeError\u001B[39m                              Traceback (most recent call last)",
      "\u001B[36mCell\u001B[39m\u001B[36m \u001B[39m\u001B[32mIn[7]\u001B[39m\u001B[32m, line 39\u001B[39m\n\u001B[32m     30\u001B[39m model = Flexible_CNN(\n\u001B[32m     31\u001B[39m     num_layers=num_layers,\n\u001B[32m     32\u001B[39m     start_channels=start_channels,\n\u001B[32m   (...)\u001B[39m\u001B[32m     35\u001B[39m     num_classes=\u001B[32m10\u001B[39m\n\u001B[32m     36\u001B[39m ).to(device)\n\u001B[32m     38\u001B[39m \u001B[38;5;66;03m# 加载模型权重\u001B[39;00m\n\u001B[32m---> \u001B[39m\u001B[32m39\u001B[39m model.load_state_dict(torch.load(model_path, map_location=device))\n\u001B[32m     40\u001B[39m model.eval()\n\u001B[32m     42\u001B[39m \u001B[38;5;66;03m# 定义损失函数\u001B[39;00m\n",
      "\u001B[36mFile \u001B[39m\u001B[32m~\\anaconda3\\envs\\Masterarbeit\\Lib\\site-packages\\torch\\nn\\modules\\module.py:2584\u001B[39m, in \u001B[36mModule.load_state_dict\u001B[39m\u001B[34m(self, state_dict, strict, assign)\u001B[39m\n\u001B[32m   2576\u001B[39m         error_msgs.insert(\n\u001B[32m   2577\u001B[39m             \u001B[32m0\u001B[39m,\n\u001B[32m   2578\u001B[39m             \u001B[33m\"\u001B[39m\u001B[33mMissing key(s) in state_dict: \u001B[39m\u001B[38;5;132;01m{}\u001B[39;00m\u001B[33m. \u001B[39m\u001B[33m\"\u001B[39m.format(\n\u001B[32m   2579\u001B[39m                 \u001B[33m\"\u001B[39m\u001B[33m, \u001B[39m\u001B[33m\"\u001B[39m.join(\u001B[33mf\u001B[39m\u001B[33m'\u001B[39m\u001B[33m\"\u001B[39m\u001B[38;5;132;01m{\u001B[39;00mk\u001B[38;5;132;01m}\u001B[39;00m\u001B[33m\"\u001B[39m\u001B[33m'\u001B[39m \u001B[38;5;28;01mfor\u001B[39;00m k \u001B[38;5;129;01min\u001B[39;00m missing_keys)\n\u001B[32m   2580\u001B[39m             ),\n\u001B[32m   2581\u001B[39m         )\n\u001B[32m   2583\u001B[39m \u001B[38;5;28;01mif\u001B[39;00m \u001B[38;5;28mlen\u001B[39m(error_msgs) > \u001B[32m0\u001B[39m:\n\u001B[32m-> \u001B[39m\u001B[32m2584\u001B[39m     \u001B[38;5;28;01mraise\u001B[39;00m \u001B[38;5;167;01mRuntimeError\u001B[39;00m(\n\u001B[32m   2585\u001B[39m         \u001B[33m\"\u001B[39m\u001B[33mError(s) in loading state_dict for \u001B[39m\u001B[38;5;132;01m{}\u001B[39;00m\u001B[33m:\u001B[39m\u001B[38;5;130;01m\\n\u001B[39;00m\u001B[38;5;130;01m\\t\u001B[39;00m\u001B[38;5;132;01m{}\u001B[39;00m\u001B[33m\"\u001B[39m.format(\n\u001B[32m   2586\u001B[39m             \u001B[38;5;28mself\u001B[39m.\u001B[34m__class__\u001B[39m.\u001B[34m__name__\u001B[39m, \u001B[33m\"\u001B[39m\u001B[38;5;130;01m\\n\u001B[39;00m\u001B[38;5;130;01m\\t\u001B[39;00m\u001B[33m\"\u001B[39m.join(error_msgs)\n\u001B[32m   2587\u001B[39m         )\n\u001B[32m   2588\u001B[39m     )\n\u001B[32m   2589\u001B[39m \u001B[38;5;28;01mreturn\u001B[39;00m _IncompatibleKeys(missing_keys, unexpected_keys)\n",
      "\u001B[31mRuntimeError\u001B[39m: Error(s) in loading state_dict for Flexible_CNN:\n\tsize mismatch for classifier.weight: copying a param with shape torch.Size([10, 256]) from checkpoint, the shape in current model is torch.Size([10, 512]).\n\tsize mismatch for classifier.feat_proj.0.weight: copying a param with shape torch.Size([256, 512]) from checkpoint, the shape in current model is torch.Size([512, 22272]).\n\tsize mismatch for classifier.feat_proj.0.bias: copying a param with shape torch.Size([256]) from checkpoint, the shape in current model is torch.Size([512]).\n\tsize mismatch for classifier.feat_proj.1.weight: copying a param with shape torch.Size([256]) from checkpoint, the shape in current model is torch.Size([512]).\n\tsize mismatch for classifier.feat_proj.1.bias: copying a param with shape torch.Size([256]) from checkpoint, the shape in current model is torch.Size([512])."
     ]
    }
   ],
   "execution_count": 7
  }
 ],
 "metadata": {
  "kernelspec": {
   "display_name": "Python 3",
   "language": "python",
   "name": "python3"
  },
  "language_info": {
   "codemirror_mode": {
    "name": "ipython",
    "version": 2
   },
   "file_extension": ".py",
   "mimetype": "text/x-python",
   "name": "python",
   "nbconvert_exporter": "python",
   "pygments_lexer": "ipython2",
   "version": "2.7.6"
  }
 },
 "nbformat": 4,
 "nbformat_minor": 5
}
